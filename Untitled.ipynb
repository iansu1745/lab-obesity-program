{
 "cells": [
  {
   "cell_type": "code",
   "execution_count": 1,
   "id": "e3ab6b72",
   "metadata": {},
   "outputs": [],
   "source": [
    "import pandas as pd\n",
    "\n",
    "pd.set_option('display.max_columns',None)\n",
    "df = pd.read_excel(\"受試者資料.xlsx\",index_col=\"受試者編號\",usecols=['受試者編號','A-3(gender)','TN_BMI','birthday'])\n",
    "#print(df)\n",
    "numbertoid=pd.read_excel('numberToID .xlsx',index_col='受試者編號')\n",
    "#print(numbertoid)\n",
    "patientlist = pd.read_excel('patienlist.xlsx')\n",
    "#print(patientlist)\n",
    "totalpatient = pd.merge(patientlist,numbertoid,on=['id','name','clinic'],how='right')\n",
    "#print(totalpatient)\n",
    "#totalpatient.to_excel('totalpatient.xlsx',encoding='utf-8')\n",
    "totalpatient = pd.read_excel('totalpatient.xlsx')\n",
    "#print(totalpatient)\n",
    "df=pd.merge(df,totalpatient,on=['受試者編號'],how='outer')\n",
    "#print(df)\n",
    "standard=pd.read_excel('BMI_data.xlsx',index_col='age')\n",
    "#print(standard)\n",
    "totaldf=pd.read_excel('受試者資料.xlsx')"
   ]
  },
  {
   "cell_type": "code",
   "execution_count": 2,
   "id": "fd5bfda3",
   "metadata": {},
   "outputs": [],
   "source": [
    "for index,row in df.iterrows():\n",
    "    age=[pd.to_datetime('today').year-pd.to_datetime(df.birthday[index]).year] #算年紀\n",
    "    df.loc[index,'age']=age\n",
    "#print(df)"
   ]
  },
  {
   "cell_type": "code",
   "execution_count": 3,
   "id": "5dde9b4c",
   "metadata": {},
   "outputs": [],
   "source": [
    "df[['obesity','BMI_group']]=0\n",
    "\n",
    "#print(df)\n",
    "#print(standard)\n",
    "for i in range(0,21):\n",
    "    group = df[df['age']==i]\n",
    "    boys = df[df['A-3(gender)']==1]\n",
    "    girls =df[df['A-3(gender)']==0]\n",
    "    \n",
    "    if i>=18.0:\n",
    "        j = 17.5\n",
    "    else:\n",
    "        j = i\n",
    "    \n",
    "    #boys:\n",
    "    boy0=standard.loc[j,'boy0']\n",
    "    boy1=standard.loc[j,'boy1']\n",
    "    boy2=standard.loc[j,'boy2']\n",
    "    \n",
    "    df.loc[(df['age']==j)&(df['A-3(gender)']==1)&(df['TN_BMI']<boy0),'BMI_group']=1\n",
    "    df.loc[(df['age']==j)&(df['A-3(gender)']==1)&(df['TN_BMI']<boy0),'obesity']=0\n",
    "    \n",
    "    df.loc[(df['age']==j)&(df['A-3(gender)']==1)&(df['TN_BMI']>boy0)&(df['TN_BMI']<boy1),'BMI_group']=2\n",
    "    df.loc[(df['age']==j)&(df['A-3(gender)']==1)&(df['TN_BMI']>boy0)&(df['TN_BMI']<boy1),'obesity']=0\n",
    "    \n",
    "    df.loc[(df['age']==j)&(df['A-3(gender)']==1)&(df['TN_BMI']>boy1)&(df['TN_BMI']<boy2),'BMI_group']=3\n",
    "    df.loc[(df['age']==j)&(df['A-3(gender)']==1)&(df['TN_BMI']>boy1)&(df['TN_BMI']<boy2),'obesity']=1\n",
    "    \n",
    "    df.loc[(df['age']==j)&(df['A-3(gender)']==1)&(df['TN_BMI']>boy2),'BMI_group']=4\n",
    "    df.loc[(df['age']==j)&(df['A-3(gender)']==1)&(df['TN_BMI']>boy2),'obesity']=1\n",
    "    \n",
    "   \n",
    "    #girls:\n",
    "    girl0=standard.loc[j,'girl0']\n",
    "    girl1=standard.loc[j,'girl1']\n",
    "    girl2=standard.loc[j,'girl2']\n",
    "    \n",
    "    df.loc[(df['age']==j)&(df['A-3(gender)']==0)&(df['TN_BMI']<girl0),'BMI_group']=1\n",
    "    df.loc[(df['age']==j)&(df['A-3(gender)']==0)&(df['TN_BMI']<girl0),'obesity']=0\n",
    "    \n",
    "    df.loc[(df['age']==j)&(df['A-3(gender)']==0)&(df['TN_BMI']>girl0)&(df['TN_BMI']<girl1),'BMI_group']=2\n",
    "    df.loc[(df['age']==j)&(df['A-3(gender)']==0)&(df['TN_BMI']>girl0)&(df['TN_BMI']<girl1),'obesity']=0\n",
    "    \n",
    "    df.loc[(df['age']==j)&(df['A-3(gender)']==0)&(df['TN_BMI']>girl1)&(df['TN_BMI']<girl2),'BMI_group']=3\n",
    "    df.loc[(df['age']==j)&(df['A-3(gender)']==0)&(df['TN_BMI']>girl1)&(df['TN_BMI']<girl2),'obesity']=1\n",
    "    \n",
    "    df.loc[(df['age']==j)&(df['A-3(gender)']==0)&(df['TN_BMI']>girl2),'BMI_group']=4\n",
    "    df.loc[(df['age']==j)&(df['A-3(gender)']==0)&(df['TN_BMI']>girl2),'obesity']=1\n",
    "    #print(df)\n",
    "    \n",
    "    df.to_csv('new_resource.csv')"
   ]
  },
  {
   "cell_type": "code",
   "execution_count": 4,
   "id": "dfa3440b",
   "metadata": {},
   "outputs": [],
   "source": [
    "#add the rest element in受試者資料.xlsx ,such as hl~\n",
    "df = pd.merge(df,totaldf,on=['受試者編號','A-3(gender)','TN_BMI','birthday'],how='outer')\n",
    "data = pd.read_excel('data.xlsx')\n",
    "df=pd.merge(data,df,on='id',how='right')\n",
    "#print(df)\n",
    "df.to_csv('37newdata.csv',encoding='utf-8')"
   ]
  },
  {
   "cell_type": "code",
   "execution_count": 5,
   "id": "df09baaa",
   "metadata": {},
   "outputs": [
    {
     "name": "stdout",
     "output_type": "stream",
     "text": [
      "<class 'pandas.core.frame.DataFrame'>\n",
      "<class 'pandas.core.frame.DataFrame'>\n"
     ]
    }
   ],
   "source": [
    "df_old = pd.read_csv('dataold.csv')\n",
    "print(type(df))\n",
    "print(type(df_old))\n",
    "finaldf=pd.concat([df,df_old],join='outer')\n",
    "finaldf.to_csv('finalresource.csv')"
   ]
  },
  {
   "cell_type": "code",
   "execution_count": 6,
   "id": "7b91cd12",
   "metadata": {},
   "outputs": [],
   "source": [
    "\n",
    "newdata=pd.read_csv('finalresource.csv',encoding='utf-8',header = 0)\n",
    "realnew = newdata[newdata['date']>='2021-02-24']\n",
    "#print(realnew)\n",
    "realnew.to_csv('3-9newdata.csv')\n"
   ]
  },
  {
   "cell_type": "code",
   "execution_count": null,
   "id": "d99f6382",
   "metadata": {},
   "outputs": [],
   "source": []
  }
 ],
 "metadata": {
  "kernelspec": {
   "display_name": "Python 3",
   "language": "python",
   "name": "python3"
  },
  "language_info": {
   "codemirror_mode": {
    "name": "ipython",
    "version": 3
   },
   "file_extension": ".py",
   "mimetype": "text/x-python",
   "name": "python",
   "nbconvert_exporter": "python",
   "pygments_lexer": "ipython3",
   "version": "3.8.8"
  }
 },
 "nbformat": 4,
 "nbformat_minor": 5
}
